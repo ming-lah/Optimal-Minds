{
 "cells": [
  {
   "cell_type": "markdown",
   "id": "31c3786b",
   "metadata": {},
   "source": [
    "# **框架详述**\n",
    "\n",
    "### **环境信息**\n",
    "\n",
    "环境交互的两个API：\n",
    "\n",
    "1. reset(usr_conf)\n",
    "\n",
    "reset会将环境重置为环境配置文件中指定的状态，并且返回初始观测\n",
    "```python\n",
    "obs, state = env.reset(usr_conf = usr_conf)\n",
    "```"
   ]
  },
  {
   "cell_type": "markdown",
   "id": "095bb18d",
   "metadata": {},
   "source": []
  }
 ],
 "metadata": {
  "language_info": {
   "name": "python"
  }
 },
 "nbformat": 4,
 "nbformat_minor": 5
}
